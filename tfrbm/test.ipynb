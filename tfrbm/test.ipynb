{
 "cells": [
  {
   "cell_type": "markdown",
   "metadata": {},
   "source": [
    "# GBRBM"
   ]
  },
  {
   "cell_type": "code",
   "execution_count": 2,
   "metadata": {
    "collapsed": false
   },
   "outputs": [
    {
     "name": "stdout",
     "output_type": "stream",
     "text": [
      "Extracting MNIST_data/train-images-idx3-ubyte.gz\n",
      "Extracting MNIST_data/train-labels-idx1-ubyte.gz\n",
      "Extracting MNIST_data/t10k-images-idx3-ubyte.gz\n",
      "Extracting MNIST_data/t10k-labels-idx1-ubyte.gz\n",
      "Epoch: 0: 100%|##########| 5500/5500 [00:17<00:00, 310.75it/s]\n",
      "Train error: 0.0649\n",
      "\n",
      "Epoch: 1: 100%|##########| 5500/5500 [00:17<00:00, 312.68it/s]\n",
      "Train error: 0.0594\n",
      "\n",
      "Epoch: 2: 100%|##########| 5500/5500 [00:17<00:00, 314.68it/s]\n",
      "Train error: 0.0554\n",
      "\n",
      "Epoch: 3: 100%|##########| 5500/5500 [00:17<00:00, 310.91it/s]\n",
      "Train error: 0.0509\n",
      "\n",
      "Epoch: 4: 100%|##########| 5500/5500 [00:17<00:00, 309.67it/s]\n",
      "Train error: 0.0473\n",
      "\n"
     ]
    }
   ],
   "source": [
    "import matplotlib.pyplot as plt\n",
    "from gbrbm import GBRBM\n",
    "import input_data\n",
    "\n",
    "mnist = input_data.read_data_sets('MNIST_data/', one_hot=True)\n",
    "mnist_images = mnist.train.images\n",
    "\n",
    "gbrbm = GBRBM(n_visible=784, n_hidden=64, learning_rate=0.01, momentum=0.95, use_tqdm=True)\n",
    "errs = gbrbm.fit(mnist_images, n_epoches=5, batch_size=10)\n",
    "plt.plot(errs)\n",
    "plt.show()"
   ]
  },
  {
   "cell_type": "markdown",
   "metadata": {},
   "source": [
    "# BBRBM"
   ]
  },
  {
   "cell_type": "code",
   "execution_count": 1,
   "metadata": {
    "collapsed": false
   },
   "outputs": [
    {
     "name": "stdout",
     "output_type": "stream",
     "text": [
      "Extracting MNIST_data/train-images-idx3-ubyte.gz\n",
      "Extracting MNIST_data/train-labels-idx1-ubyte.gz\n",
      "Extracting MNIST_data/t10k-images-idx3-ubyte.gz\n",
      "Extracting MNIST_data/t10k-labels-idx1-ubyte.gz\n",
      "Epoch: 0: 100%|##########| 5500/5500 [00:18<00:00, 299.96it/s]\n",
      "Train error: 0.1264\n",
      "\n",
      "Epoch: 1: 100%|##########| 5500/5500 [00:17<00:00, 315.73it/s]\n",
      "Train error: 0.0847\n",
      "\n",
      "Epoch: 2: 100%|##########| 5500/5500 [00:17<00:00, 317.42it/s]\n",
      "Train error: 0.0769\n",
      "\n",
      "Epoch: 3: 100%|##########| 5500/5500 [00:17<00:00, 316.93it/s]\n",
      "Train error: 0.0707\n",
      "\n",
      "Epoch: 4: 100%|##########| 5500/5500 [00:17<00:00, 312.27it/s]\n",
      "Train error: 0.0648\n",
      "\n",
      "Epoch: 5: 100%|##########| 5500/5500 [00:19<00:00, 284.41it/s]\n",
      "Train error: 0.0598\n",
      "\n",
      "Epoch: 6: 100%|##########| 5500/5500 [00:17<00:00, 306.90it/s]\n",
      "Train error: 0.0559\n",
      "\n",
      "Epoch: 7: 100%|##########| 5500/5500 [00:17<00:00, 316.44it/s]\n",
      "Train error: 0.0529\n",
      "\n",
      "Epoch: 8: 100%|##########| 5500/5500 [00:18<00:00, 293.74it/s]\n",
      "Train error: 0.0505\n",
      "\n",
      "Epoch: 9: 100%|##########| 5500/5500 [00:18<00:00, 292.79it/s]\n",
      "Train error: 0.0486\n",
      "\n",
      "Epoch: 10: 100%|##########| 5500/5500 [00:19<00:00, 288.71it/s]\n",
      "Train error: 0.0470\n",
      "\n",
      "Epoch: 11: 100%|##########| 5500/5500 [00:17<00:00, 306.85it/s]\n",
      "Train error: 0.0456\n",
      "\n",
      "Epoch: 12: 100%|##########| 5500/5500 [00:18<00:00, 293.04it/s]\n",
      "Train error: 0.0444\n",
      "\n",
      "Epoch: 13: 100%|##########| 5500/5500 [00:18<00:00, 289.81it/s]\n",
      "Train error: 0.0433\n",
      "\n",
      "Epoch: 14: 100%|##########| 5500/5500 [00:20<00:00, 262.21it/s]\n",
      "Train error: 0.0424\n",
      "\n",
      "Epoch: 15: 100%|##########| 5500/5500 [00:20<00:00, 270.12it/s]\n",
      "Train error: 0.0415\n",
      "\n",
      "Epoch: 16: 100%|##########| 5500/5500 [00:18<00:00, 291.44it/s]\n",
      "Train error: 0.0408\n",
      "\n",
      "Epoch: 17: 100%|##########| 5500/5500 [00:17<00:00, 309.37it/s]\n",
      "Train error: 0.0401\n",
      "\n",
      "Epoch: 18: 100%|##########| 5500/5500 [00:17<00:00, 310.51it/s]\n",
      "Train error: 0.0394\n",
      "\n",
      "Epoch: 19: 100%|##########| 5500/5500 [00:19<00:00, 275.80it/s]\n",
      "Train error: 0.0388\n",
      "\n",
      "Epoch: 20: 100%|##########| 5500/5500 [00:19<00:00, 289.05it/s]\n",
      "Train error: 0.0383\n",
      "\n",
      "Epoch: 21: 100%|##########| 5500/5500 [00:18<00:00, 314.51it/s]\n",
      "Train error: 0.0378\n",
      "\n",
      "Epoch: 22: 100%|##########| 5500/5500 [00:18<00:00, 301.67it/s]\n",
      "Train error: 0.0373\n",
      "\n",
      "Epoch: 23: 100%|##########| 5500/5500 [00:19<00:00, 284.71it/s]\n",
      "Train error: 0.0369\n",
      "\n",
      "Epoch: 24: 100%|##########| 5500/5500 [00:19<00:00, 288.21it/s]\n",
      "Train error: 0.0364\n",
      "\n",
      "Epoch: 25: 100%|##########| 5500/5500 [00:17<00:00, 318.95it/s]\n",
      "Train error: 0.0360\n",
      "\n",
      "Epoch: 26: 100%|##########| 5500/5500 [00:18<00:00, 299.56it/s]\n",
      "Train error: 0.0356\n",
      "\n",
      "Epoch: 27: 100%|##########| 5500/5500 [00:18<00:00, 300.18it/s]\n",
      "Train error: 0.0353\n",
      "\n",
      "Epoch: 28: 100%|##########| 5500/5500 [00:17<00:00, 312.86it/s]\n",
      "Train error: 0.0350\n",
      "\n",
      "Epoch: 29: 100%|##########| 5500/5500 [00:17<00:00, 320.53it/s]\n",
      "Train error: 0.0346\n",
      "\n"
     ]
    }
   ],
   "source": [
    "import numpy as np\n",
    "import matplotlib.pyplot as plt\n",
    "# from tfrbm import BBRBM, GBRBM\n",
    "from bbrbm import BBRBM\n",
    "# from tensorflow.examples.tutorials.mnist import input_data\n",
    "import input_data\n",
    "\n",
    "# mnist = input_data.read_data_sets(\"MNIST_data/\", one_hot=True)\n",
    "mnist = input_data.read_data_sets('MNIST_data/', one_hot=True)\n",
    "mnist_images = mnist.train.images\n",
    "\n",
    "bbrbm = BBRBM(n_visible=784, n_hidden=64, learning_rate=0.01, momentum=0.95, use_tqdm=True)\n",
    "errs = bbrbm.fit(mnist_images, n_epoches=30, batch_size=10)\n",
    "plt.plot(errs)\n",
    "plt.show()"
   ]
  }
 ],
 "metadata": {
  "kernelspec": {
   "display_name": "Python 3",
   "language": "python",
   "name": "python3"
  },
  "language_info": {
   "codemirror_mode": {
    "name": "ipython",
    "version": 3
   },
   "file_extension": ".py",
   "mimetype": "text/x-python",
   "name": "python",
   "nbconvert_exporter": "python",
   "pygments_lexer": "ipython3",
   "version": "3.6.0"
  }
 },
 "nbformat": 4,
 "nbformat_minor": 0
}
